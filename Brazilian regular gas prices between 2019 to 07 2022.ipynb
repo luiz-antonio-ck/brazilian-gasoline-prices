{
 "cells": [
  {
   "cell_type": "markdown",
   "metadata": {},
   "source": [
    "# Brazilian regular gas prices between 2019 to 07 2022\n",
    "\n",
    "This Jupyter Notebook has the objective to observe gas prices during pandemic and after state tax reduction called 'ICMS'. Database used is downloaded from government website, IBGE. There are two detail level, state level with an animated plot and national leve with a line plot aggregated by average state price. They are 12 files which summing it takes almost 500 MB.\n",
    "\n",
    "This documment is divided in these sections:\n",
    "- Get Brazil geoJSOn files to plot correctly brazil's states.\n",
    "- Importing files from database (download them manually)\n",
    "- Filtering target fuel and grouping by state\n",
    "- Checking encoding and data handling\n",
    "- Grouping by year and month\n",
    "- Plotting in a map\n",
    "- Plotting national average price\n",
    "\n",
    "Downloads links ; main link: https://dados.gov.br/dataset/serie-historica-de-precos-de-combustiveis-por-revenda\n",
    "\n",
    "Files links:\n",
    "\n",
    "http://landpage-h.cgu.gov.br/dadosabertos/index.php?url=https://www.gov.br/anp/pt-br/centrais-de-conteudo/dados-abertos/arquivos/shpc/dsas/ca/ca-2019-01.csv\n",
    "\n",
    "http://landpage-h.cgu.gov.br/dadosabertos/index.php?url=https://www.gov.br/anp/pt-br/centrais-de-conteudo/dados-abertos/arquivos/shpc/dsas/ca/ca-2019-02.csv\n",
    "\n",
    "http://landpage-h.cgu.gov.br/dadosabertos/index.php?url=https://www.gov.br/anp/pt-br/centrais-de-conteudo/dados-abertos/arquivos/shpc/dsas/ca/ca-2020-01.csv\n",
    "\n",
    "http://landpage-h.cgu.gov.br/dadosabertos/index.php?url=https://www.gov.br/anp/pt-br/centrais-de-conteudo/dados-abertos/arquivos/shpc/dsas/ca/ca-2020-02.csv\n",
    "\n",
    "http://landpage-h.cgu.gov.br/dadosabertos/index.php?url=https://www.gov.br/anp/pt-br/centrais-de-conteudo/dados-abertos/arquivos/shpc/dsas/ca/ca-2021-01.csv\n",
    "\n",
    "http://landpage-h.cgu.gov.br/dadosabertos/index.php?url=https://www.gov.br/anp/pt-br/centrais-de-conteudo/dados-abertos/arquivos/shpc/dsas/ca/ca-2021-02.csv\n",
    "\n",
    "http://landpage-h.cgu.gov.br/dadosabertos/index.php?url=https://www.gov.br/anp/pt-br/centrais-de-conteudo/dados-abertos/arquivos/shpc/dsan/2022/precos-gasolina-etanol-2022-01.csv\n",
    "\n",
    "http://landpage-h.cgu.gov.br/dadosabertos/index.php?url=https://www.gov.br/anp/pt-br/centrais-de-conteudo/dados-abertos/arquivos/shpc/dsan/2022/precos-gasolina-etanol-2022-02.csv\n",
    "\n",
    "http://landpage-h.cgu.gov.br/dadosabertos/index.php?url=https://www.gov.br/anp/pt-br/centrais-de-conteudo/dados-abertos/arquivos/shpc/dsan/2022/dados-abertos-precos-2022-03-gasolina-etanol.csv\n",
    "\n",
    "http://landpage-h.cgu.gov.br/dadosabertos/index.php?url=https://www.gov.br/anp/pt-br/centrais-de-conteudo/dados-abertos/arquivos/shpc/dsan/2022/precos-gasolina-etanol-04.csv\n",
    "\n",
    "http://landpage-h.cgu.gov.br/dadosabertos/index.php?url=https://www.gov.br/anp/pt-br/centrais-de-conteudo/dados-abertos/arquivos/shpc/dsan/2022/precos-gasolina-etanol-05.csv\n",
    "\n",
    "http://landpage-h.cgu.gov.br/dadosabertos/index.php?url=https://www.gov.br/anp/pt-br/centrais-de-conteudo/dados-abertos/arquivos/shpc/dsan/2022/precos-gasolina-etanol-06.csv\n",
    "\n",
    "http://landpage-h.cgu.gov.br/dadosabertos/index.php?url=https://www.gov.br/anp/pt-br/centrais-de-conteudo/dados-abertos/arquivos/shpc/qus/ultimas-4-semanas-gasolina-etanol-2.csv\n",
    "\n",
    "\n",
    "Note: The July 2022 file is the last four weeks gas/ethanol price. This files may change to when you are trying to replicate this files, since there is not filter for futher 07/2022 dates."
   ]
  },
  {
   "cell_type": "markdown",
   "metadata": {},
   "source": [
    "## Importing libraries and database"
   ]
  },
  {
   "cell_type": "code",
   "execution_count": 2,
   "metadata": {},
   "outputs": [],
   "source": [
    "#Libraries import, install them if needed.\n",
    "import numpy as np\n",
    "import pandas as pd\n",
    "import matplotlib.pyplot as plt\n",
    "\n",
    "import requests\n",
    "import plotly.express as px\n",
    "import os\n",
    "import glob\n",
    "import csv"
   ]
  },
  {
   "cell_type": "markdown",
   "metadata": {},
   "source": [
    "## Brazil geoJSON\n",
    "First, let's download geometrical json files from github as a python dictionary to use them after."
   ]
  },
  {
   "cell_type": "code",
   "execution_count": 3,
   "metadata": {},
   "outputs": [],
   "source": [
    "response = requests.get(url = 'https://raw.githubusercontent.com/fititnt/gis-dataset-brasil/master/uf/geojson/uf.json')\n",
    "if response.status_code == 200: #200 is ok\n",
    "    state_geo = response.json()"
   ]
  },
  {
   "cell_type": "code",
   "execution_count": 4,
   "metadata": {},
   "outputs": [
    {
     "data": {
      "text/plain": [
       "['ca-2019-01.csv',\n",
       " 'ca-2019-02.csv',\n",
       " 'ca-2020-01.csv',\n",
       " 'ca-2020-02.csv',\n",
       " 'ca-2021-01.csv',\n",
       " 'ca-2021-02.csv',\n",
       " 'precos-gasolina-etanol-01.csv',\n",
       " 'precos-gasolina-etanol-02.csv',\n",
       " 'precos-gasolina-etanol-03.csv',\n",
       " 'precos-gasolina-etanol-04.csv',\n",
       " 'precos-gasolina-etanol-05.csv',\n",
       " 'precos-gasolina-etanol-06.csv',\n",
       " 'ultimas-4-semanas-gasolina-etanol-2.csv']"
      ]
     },
     "execution_count": 4,
     "metadata": {},
     "output_type": "execute_result"
    }
   ],
   "source": [
    "# getting files names\n",
    "path = './data/'\n",
    "extension = 'csv'\n",
    "os.chdir(path)\n",
    "result = glob.glob('*.{}'.format(extension))\n",
    "result"
   ]
  },
  {
   "cell_type": "markdown",
   "metadata": {},
   "source": [
    "## Importing files from database (download them manually)\n",
    "Let's check if this database has a non-changing structure which means if they all have the same columns. This process is below minimal, normally we must check unique values in categorical data type before grouping, check missing values... It's not done here to reduce script size."
   ]
  },
  {
   "cell_type": "code",
   "execution_count": 5,
   "metadata": {},
   "outputs": [
    {
     "data": {
      "text/html": [
       "<div>\n",
       "<style scoped>\n",
       "    .dataframe tbody tr th:only-of-type {\n",
       "        vertical-align: middle;\n",
       "    }\n",
       "\n",
       "    .dataframe tbody tr th {\n",
       "        vertical-align: top;\n",
       "    }\n",
       "\n",
       "    .dataframe thead th {\n",
       "        text-align: right;\n",
       "    }\n",
       "</style>\n",
       "<table border=\"1\" class=\"dataframe\">\n",
       "  <thead>\n",
       "    <tr style=\"text-align: right;\">\n",
       "      <th></th>\n",
       "      <th>ï»¿Regiao - Sigla</th>\n",
       "      <th>Estado - Sigla</th>\n",
       "      <th>Municipio</th>\n",
       "      <th>Revenda</th>\n",
       "      <th>CNPJ da Revenda</th>\n",
       "      <th>Nome da Rua</th>\n",
       "      <th>Numero Rua</th>\n",
       "      <th>Complemento</th>\n",
       "      <th>Bairro</th>\n",
       "      <th>Cep</th>\n",
       "      <th>Produto</th>\n",
       "      <th>Data da Coleta</th>\n",
       "      <th>Valor de Venda</th>\n",
       "      <th>Valor de Compra</th>\n",
       "      <th>Unidade de Medida</th>\n",
       "      <th>Bandeira</th>\n",
       "    </tr>\n",
       "  </thead>\n",
       "  <tbody>\n",
       "    <tr>\n",
       "      <th>0</th>\n",
       "      <td>SE</td>\n",
       "      <td>SP</td>\n",
       "      <td>GUARULHOS</td>\n",
       "      <td>AUTO POSTO SAKAMOTO LTDA</td>\n",
       "      <td>49.051.667/0001-02</td>\n",
       "      <td>RODOVIA PRESIDENTE DUTRA</td>\n",
       "      <td>S/N</td>\n",
       "      <td>KM 210,5-SENT SP/RJ</td>\n",
       "      <td>BONSUCESSO</td>\n",
       "      <td>07178-580</td>\n",
       "      <td>GASOLINA</td>\n",
       "      <td>03/01/2019</td>\n",
       "      <td>4.199</td>\n",
       "      <td>3.5766</td>\n",
       "      <td>R$ / litro</td>\n",
       "      <td>PETROBRAS DISTRIBUIDORA S.A.</td>\n",
       "    </tr>\n",
       "    <tr>\n",
       "      <th>1</th>\n",
       "      <td>SE</td>\n",
       "      <td>SP</td>\n",
       "      <td>GUARULHOS</td>\n",
       "      <td>AUTO POSTO SAKAMOTO LTDA</td>\n",
       "      <td>49.051.667/0001-02</td>\n",
       "      <td>RODOVIA PRESIDENTE DUTRA</td>\n",
       "      <td>S/N</td>\n",
       "      <td>KM 210,5-SENT SP/RJ</td>\n",
       "      <td>BONSUCESSO</td>\n",
       "      <td>07178-580</td>\n",
       "      <td>ETANOL</td>\n",
       "      <td>03/01/2019</td>\n",
       "      <td>2.899</td>\n",
       "      <td>2.3513</td>\n",
       "      <td>R$ / litro</td>\n",
       "      <td>PETROBRAS DISTRIBUIDORA S.A.</td>\n",
       "    </tr>\n",
       "    <tr>\n",
       "      <th>2</th>\n",
       "      <td>SE</td>\n",
       "      <td>SP</td>\n",
       "      <td>GUARULHOS</td>\n",
       "      <td>AUTO POSTO SAKAMOTO LTDA</td>\n",
       "      <td>49.051.667/0001-02</td>\n",
       "      <td>RODOVIA PRESIDENTE DUTRA</td>\n",
       "      <td>S/N</td>\n",
       "      <td>KM 210,5-SENT SP/RJ</td>\n",
       "      <td>BONSUCESSO</td>\n",
       "      <td>07178-580</td>\n",
       "      <td>DIESEL S10</td>\n",
       "      <td>03/01/2019</td>\n",
       "      <td>3.349</td>\n",
       "      <td>2.8841</td>\n",
       "      <td>R$ / litro</td>\n",
       "      <td>PETROBRAS DISTRIBUIDORA S.A.</td>\n",
       "    </tr>\n",
       "    <tr>\n",
       "      <th>3</th>\n",
       "      <td>SE</td>\n",
       "      <td>SP</td>\n",
       "      <td>GUARULHOS</td>\n",
       "      <td>AUTO POSTO SAKAMOTO LTDA</td>\n",
       "      <td>49.051.667/0001-02</td>\n",
       "      <td>RODOVIA PRESIDENTE DUTRA</td>\n",
       "      <td>S/N</td>\n",
       "      <td>KM 210,5-SENT SP/RJ</td>\n",
       "      <td>BONSUCESSO</td>\n",
       "      <td>07178-580</td>\n",
       "      <td>GNV</td>\n",
       "      <td>03/01/2019</td>\n",
       "      <td>2.439</td>\n",
       "      <td>NaN</td>\n",
       "      <td>R$ / mÂ³</td>\n",
       "      <td>PETROBRAS DISTRIBUIDORA S.A.</td>\n",
       "    </tr>\n",
       "    <tr>\n",
       "      <th>4</th>\n",
       "      <td>S</td>\n",
       "      <td>RS</td>\n",
       "      <td>CANOAS</td>\n",
       "      <td>METROPOLITANO COMERCIO DE COMBUSTIVEIS LTDA</td>\n",
       "      <td>88.587.589/0001-17</td>\n",
       "      <td>AVENIDA GUILHERME SCHELL</td>\n",
       "      <td>6340</td>\n",
       "      <td>NaN</td>\n",
       "      <td>CENTRO</td>\n",
       "      <td>92310-000</td>\n",
       "      <td>GASOLINA</td>\n",
       "      <td>02/01/2019</td>\n",
       "      <td>4.399</td>\n",
       "      <td>3.8550</td>\n",
       "      <td>R$ / litro</td>\n",
       "      <td>BRANCA</td>\n",
       "    </tr>\n",
       "  </tbody>\n",
       "</table>\n",
       "</div>"
      ],
      "text/plain": [
       "  ï»¿Regiao - Sigla Estado - Sigla  Municipio  \\\n",
       "0                SE             SP  GUARULHOS   \n",
       "1                SE             SP  GUARULHOS   \n",
       "2                SE             SP  GUARULHOS   \n",
       "3                SE             SP  GUARULHOS   \n",
       "4                 S             RS     CANOAS   \n",
       "\n",
       "                                       Revenda      CNPJ da Revenda  \\\n",
       "0                     AUTO POSTO SAKAMOTO LTDA   49.051.667/0001-02   \n",
       "1                     AUTO POSTO SAKAMOTO LTDA   49.051.667/0001-02   \n",
       "2                     AUTO POSTO SAKAMOTO LTDA   49.051.667/0001-02   \n",
       "3                     AUTO POSTO SAKAMOTO LTDA   49.051.667/0001-02   \n",
       "4  METROPOLITANO COMERCIO DE COMBUSTIVEIS LTDA   88.587.589/0001-17   \n",
       "\n",
       "                Nome da Rua Numero Rua          Complemento      Bairro  \\\n",
       "0  RODOVIA PRESIDENTE DUTRA        S/N  KM 210,5-SENT SP/RJ  BONSUCESSO   \n",
       "1  RODOVIA PRESIDENTE DUTRA        S/N  KM 210,5-SENT SP/RJ  BONSUCESSO   \n",
       "2  RODOVIA PRESIDENTE DUTRA        S/N  KM 210,5-SENT SP/RJ  BONSUCESSO   \n",
       "3  RODOVIA PRESIDENTE DUTRA        S/N  KM 210,5-SENT SP/RJ  BONSUCESSO   \n",
       "4  AVENIDA GUILHERME SCHELL       6340                  NaN      CENTRO   \n",
       "\n",
       "         Cep     Produto Data da Coleta  Valor de Venda  Valor de Compra  \\\n",
       "0  07178-580    GASOLINA     03/01/2019           4.199           3.5766   \n",
       "1  07178-580      ETANOL     03/01/2019           2.899           2.3513   \n",
       "2  07178-580  DIESEL S10     03/01/2019           3.349           2.8841   \n",
       "3  07178-580         GNV     03/01/2019           2.439              NaN   \n",
       "4  92310-000    GASOLINA     02/01/2019           4.399           3.8550   \n",
       "\n",
       "  Unidade de Medida                      Bandeira  \n",
       "0        R$ / litro  PETROBRAS DISTRIBUIDORA S.A.  \n",
       "1        R$ / litro  PETROBRAS DISTRIBUIDORA S.A.  \n",
       "2        R$ / litro  PETROBRAS DISTRIBUIDORA S.A.  \n",
       "3          R$ / mÂ³  PETROBRAS DISTRIBUIDORA S.A.  \n",
       "4        R$ / litro                        BRANCA  "
      ]
     },
     "execution_count": 5,
     "metadata": {},
     "output_type": "execute_result"
    }
   ],
   "source": [
    "file_test = result[0:][0]\n",
    "db = pd.read_csv(file_test,encoding='ANSI',engine='python',delimiter=';',decimal=',',index_col=False,nrows=5 )\n",
    "db.head()\n"
   ]
  },
  {
   "cell_type": "code",
   "execution_count": 6,
   "metadata": {},
   "outputs": [
    {
     "name": "stdout",
     "output_type": "stream",
     "text": [
      "['Bairro', \"Bandeira', 'Regiao - Sigla\", \"Bandeira', 'ï»¿Regiao - Sigla\", \"Bandeira']\", 'CNPJ da Revenda', 'Cep', 'Complemento', 'Data da Coleta', 'Estado - Sigla', 'Municipio', 'Nome da Rua', 'Numero Rua', 'Produto', 'Revenda', 'Unidade de Medida', 'Valor de Compra', 'Valor de Venda', \"['ï»¿Regiao - Sigla\"]\n"
     ]
    }
   ],
   "source": [
    "structureTest = []\n",
    "for csvs in result:\n",
    "    csvs = './'+csvs\n",
    "    with open(csvs,encoding='ANSI', newline='') as csv_file:\n",
    "        csv_reader = csv.reader(csv_file, delimiter=',')\n",
    "        count=0\n",
    "        for row in csv_reader:\n",
    "            if count:\n",
    "                break;\n",
    "            count +=1\n",
    "            structureTest = structureTest + row\n",
    "            \n",
    "structureTest = str(structureTest).split(';')\n",
    "print(sorted(set(structureTest)))"
   ]
  },
  {
   "cell_type": "markdown",
   "metadata": {},
   "source": [
    "Except for a special character such as [ and ï»¿ all data tables has the same columns names"
   ]
  },
  {
   "cell_type": "markdown",
   "metadata": {},
   "source": [
    "## Filtering target fuel and grouping by state\n",
    "As files files are big, more than 50 MB each. To avoid overloading pandas, we'll work in each table for time and then join them."
   ]
  },
  {
   "cell_type": "code",
   "execution_count": 7,
   "metadata": {
    "collapsed": true
   },
   "outputs": [
    {
     "name": "stdout",
     "output_type": "stream",
     "text": [
      "ca-2019-01.csv\n",
      "ca-2019-02.csv\n",
      "ca-2020-01.csv\n",
      "ca-2020-02.csv\n",
      "ca-2021-01.csv\n",
      "ca-2021-02.csv\n",
      "precos-gasolina-etanol-01.csv\n",
      "precos-gasolina-etanol-02.csv\n",
      "precos-gasolina-etanol-03.csv\n",
      "precos-gasolina-etanol-04.csv\n",
      "precos-gasolina-etanol-05.csv\n",
      "precos-gasolina-etanol-06.csv\n",
      "ultimas-4-semanas-gasolina-etanol-2.csv\n"
     ]
    }
   ],
   "source": [
    "precosGasAno = pd.DataFrame()\n",
    "#dateparserbr = lambda x: pd.datetime.strptime(x, \"%d/%m/%Y\") Decreptiated format\n",
    "for csv in result:\n",
    "    print(csv)\n",
    "    db = pd.read_csv('./{}'.format(csv),encoding='ANSI',engine='python',delimiter=';',decimal=',',index_col=False)#,parse_dates=['Data da Coleta'] ,date_parser=dateparserbr\n",
    "    # You can change engine or delete this parameter to increase speed but it will lose accentuation\n",
    "    db['Data da Coleta'] = pd.to_datetime(db['Data da Coleta'],format='%d/%m/%Y')\n",
    "    db['Ano e Mes'] = db['Data da Coleta'].dt.strftime('%Y/%m')\n",
    "    db_produto_filtro = db['Produto'].isin(['GASOLINA'])\n",
    "    db_gasolina = db[db_produto_filtro]\n",
    "    db_gasolina_estado = db_gasolina.groupby(['Estado - Sigla','Ano e Mes'], as_index=False)['Valor de Venda'].mean()\n",
    "    precosGasAno = pd.concat([precosGasAno,db_gasolina_estado],ignore_index=True)"
   ]
  },
  {
   "cell_type": "markdown",
   "metadata": {},
   "source": [
    "## Checking encoding and data handling\n",
    "After merging, let's check our new database."
   ]
  },
  {
   "cell_type": "code",
   "execution_count": 8,
   "metadata": {},
   "outputs": [
    {
     "data": {
      "text/html": [
       "<div>\n",
       "<style scoped>\n",
       "    .dataframe tbody tr th:only-of-type {\n",
       "        vertical-align: middle;\n",
       "    }\n",
       "\n",
       "    .dataframe tbody tr th {\n",
       "        vertical-align: top;\n",
       "    }\n",
       "\n",
       "    .dataframe thead th {\n",
       "        text-align: right;\n",
       "    }\n",
       "</style>\n",
       "<table border=\"1\" class=\"dataframe\">\n",
       "  <thead>\n",
       "    <tr style=\"text-align: right;\">\n",
       "      <th></th>\n",
       "      <th>Estado - Sigla</th>\n",
       "      <th>Ano e Mes</th>\n",
       "      <th>Valor de Venda</th>\n",
       "    </tr>\n",
       "  </thead>\n",
       "  <tbody>\n",
       "    <tr>\n",
       "      <th>0</th>\n",
       "      <td>AC</td>\n",
       "      <td>2019/01</td>\n",
       "      <td>4.820292</td>\n",
       "    </tr>\n",
       "    <tr>\n",
       "      <th>1</th>\n",
       "      <td>AL</td>\n",
       "      <td>2019/01</td>\n",
       "      <td>4.525934</td>\n",
       "    </tr>\n",
       "    <tr>\n",
       "      <th>2</th>\n",
       "      <td>AM</td>\n",
       "      <td>2019/01</td>\n",
       "      <td>4.107835</td>\n",
       "    </tr>\n",
       "    <tr>\n",
       "      <th>3</th>\n",
       "      <td>AP</td>\n",
       "      <td>2019/01</td>\n",
       "      <td>3.871110</td>\n",
       "    </tr>\n",
       "    <tr>\n",
       "      <th>4</th>\n",
       "      <td>BA</td>\n",
       "      <td>2019/01</td>\n",
       "      <td>4.499906</td>\n",
       "    </tr>\n",
       "    <tr>\n",
       "      <th>...</th>\n",
       "      <td>...</td>\n",
       "      <td>...</td>\n",
       "      <td>...</td>\n",
       "    </tr>\n",
       "    <tr>\n",
       "      <th>1156</th>\n",
       "      <td>RS</td>\n",
       "      <td>2022/07</td>\n",
       "      <td>6.223170</td>\n",
       "    </tr>\n",
       "    <tr>\n",
       "      <th>1157</th>\n",
       "      <td>SC</td>\n",
       "      <td>2022/07</td>\n",
       "      <td>6.098993</td>\n",
       "    </tr>\n",
       "    <tr>\n",
       "      <th>1158</th>\n",
       "      <td>SE</td>\n",
       "      <td>2022/07</td>\n",
       "      <td>6.463068</td>\n",
       "    </tr>\n",
       "    <tr>\n",
       "      <th>1159</th>\n",
       "      <td>SP</td>\n",
       "      <td>2022/07</td>\n",
       "      <td>5.973317</td>\n",
       "    </tr>\n",
       "    <tr>\n",
       "      <th>1160</th>\n",
       "      <td>TO</td>\n",
       "      <td>2022/07</td>\n",
       "      <td>6.741831</td>\n",
       "    </tr>\n",
       "  </tbody>\n",
       "</table>\n",
       "<p>1161 rows × 3 columns</p>\n",
       "</div>"
      ],
      "text/plain": [
       "     Estado - Sigla Ano e Mes  Valor de Venda\n",
       "0                AC   2019/01        4.820292\n",
       "1                AL   2019/01        4.525934\n",
       "2                AM   2019/01        4.107835\n",
       "3                AP   2019/01        3.871110\n",
       "4                BA   2019/01        4.499906\n",
       "...             ...       ...             ...\n",
       "1156             RS   2022/07        6.223170\n",
       "1157             SC   2022/07        6.098993\n",
       "1158             SE   2022/07        6.463068\n",
       "1159             SP   2022/07        5.973317\n",
       "1160             TO   2022/07        6.741831\n",
       "\n",
       "[1161 rows x 3 columns]"
      ]
     },
     "execution_count": 8,
     "metadata": {},
     "output_type": "execute_result"
    }
   ],
   "source": [
    "precosGasAno.sort_values(by=['Ano e Mes','Estado - Sigla'],inplace=True,ignore_index=True)\n",
    "precosGasAno"
   ]
  },
  {
   "cell_type": "markdown",
   "metadata": {},
   "source": [
    "It does look ok! Values were ordered to be better to understand."
   ]
  },
  {
   "cell_type": "code",
   "execution_count": 60,
   "metadata": {},
   "outputs": [
    {
     "data": {
      "text/html": [
       "<div>\n",
       "<style scoped>\n",
       "    .dataframe tbody tr th:only-of-type {\n",
       "        vertical-align: middle;\n",
       "    }\n",
       "\n",
       "    .dataframe tbody tr th {\n",
       "        vertical-align: top;\n",
       "    }\n",
       "\n",
       "    .dataframe thead th {\n",
       "        text-align: right;\n",
       "    }\n",
       "</style>\n",
       "<table border=\"1\" class=\"dataframe\">\n",
       "  <thead>\n",
       "    <tr style=\"text-align: right;\">\n",
       "      <th></th>\n",
       "      <th>Estado - Sigla</th>\n",
       "      <th>Ano e Mes</th>\n",
       "      <th>Valor de Venda</th>\n",
       "    </tr>\n",
       "  </thead>\n",
       "  <tbody>\n",
       "    <tr>\n",
       "      <th>435</th>\n",
       "      <td>AP</td>\n",
       "      <td>2020/05</td>\n",
       "      <td>2.994821</td>\n",
       "    </tr>\n",
       "    <tr>\n",
       "      <th>1042</th>\n",
       "      <td>PI</td>\n",
       "      <td>2022/04</td>\n",
       "      <td>8.048842</td>\n",
       "    </tr>\n",
       "  </tbody>\n",
       "</table>\n",
       "</div>"
      ],
      "text/plain": [
       "     Estado - Sigla Ano e Mes  Valor de Venda\n",
       "435              AP   2020/05        2.994821\n",
       "1042             PI   2022/04        8.048842"
      ]
     },
     "execution_count": 60,
     "metadata": {},
     "output_type": "execute_result"
    }
   ],
   "source": [
    "min = precosGasAno['Valor de Venda'].min()\n",
    "max = precosGasAno['Valor de Venda'].max()\n",
    "pricesLoc = [min,max]\n",
    "precosGasAno.loc[precosGasAno['Valor de Venda'].isin(pricesLoc)]"
   ]
  },
  {
   "cell_type": "markdown",
   "metadata": {},
   "source": [
    "This is an insane variation! Although we are looking at a large country with an independent state tax regulation and high inflation, this can be acceptable."
   ]
  },
  {
   "cell_type": "markdown",
   "metadata": {},
   "source": [
    "## Plotting in a map\n",
    "Animation is commented (with # symbol) because it generates a very heavy file, and only this output is deleted.\n",
    "\n",
    "This is record gif before notebook translation:\n",
    "\n",
    "![SegmentLocal](Gasolina.gif \"segment\")\n",
    "\n",
    "I recommend restarting the kernel between runs."
   ]
  },
  {
   "cell_type": "code",
   "execution_count": null,
   "metadata": {},
   "outputs": [],
   "source": [
    "# Plotando mapa com animação dos preços. A animação está desabilitada agora pois gera um arquivo muito pesado, podendo travar o script. \n",
    "# Recomendo reiniciar o kernel entre execuções.\n",
    "fig = px.choropleth(precosGasAno, geojson=state_geo, color=\"Valor de Venda\",\n",
    "                    locations=\"Estado - Sigla\", featureidkey=\"properties.UF_05\",\n",
    "                    projection=\"mercator\",\n",
    "                    labels={'Valor de Venda':' Valor de Venda'},\n",
    "                    color_continuous_scale='Oranges',\n",
    "                    animation_frame=\"Ano e Mes\",\n",
    "                    range_color=(min,max),\n",
    "                    width=800,\n",
    "                    height=600,\n",
    "                   )\n",
    "fig.update_geos(fitbounds=\"geojson\", visible=False)\n",
    "fig.update_layout(margin={\"r\":0,\"t\":0,\"l\":0,\"b\":0})\n",
    "fig.show()"
   ]
  },
  {
   "cell_type": "markdown",
   "metadata": {},
   "source": [
    "## Plotting national average price\n",
    "Let's plot a basic line chart and then get it better."
   ]
  },
  {
   "cell_type": "code",
   "execution_count": 58,
   "metadata": {},
   "outputs": [
    {
     "data": {
      "text/html": [
       "<div>\n",
       "<style scoped>\n",
       "    .dataframe tbody tr th:only-of-type {\n",
       "        vertical-align: middle;\n",
       "    }\n",
       "\n",
       "    .dataframe tbody tr th {\n",
       "        vertical-align: top;\n",
       "    }\n",
       "\n",
       "    .dataframe thead th {\n",
       "        text-align: right;\n",
       "    }\n",
       "</style>\n",
       "<table border=\"1\" class=\"dataframe\">\n",
       "  <thead>\n",
       "    <tr style=\"text-align: right;\">\n",
       "      <th></th>\n",
       "      <th>Ano e Mes</th>\n",
       "      <th>Valor de Venda</th>\n",
       "    </tr>\n",
       "  </thead>\n",
       "  <tbody>\n",
       "    <tr>\n",
       "      <th>39</th>\n",
       "      <td>2022/05</td>\n",
       "      <td>7.361250</td>\n",
       "    </tr>\n",
       "    <tr>\n",
       "      <th>40</th>\n",
       "      <td>2022/06</td>\n",
       "      <td>7.366278</td>\n",
       "    </tr>\n",
       "    <tr>\n",
       "      <th>41</th>\n",
       "      <td>2022/07</td>\n",
       "      <td>6.435902</td>\n",
       "    </tr>\n",
       "  </tbody>\n",
       "</table>\n",
       "</div>"
      ],
      "text/plain": [
       "   Ano e Mes  Valor de Venda\n",
       "39   2022/05        7.361250\n",
       "40   2022/06        7.366278\n",
       "41   2022/07        6.435902"
      ]
     },
     "execution_count": 58,
     "metadata": {},
     "output_type": "execute_result"
    }
   ],
   "source": [
    "precosGasAnoMed = precosGasAno.groupby(['Ano e Mes'], as_index=False)['Valor de Venda'].mean()\n",
    "precosGasAnoMed.tail(3)\n",
    "\n"
   ]
  },
  {
   "cell_type": "code",
   "execution_count": 59,
   "metadata": {},
   "outputs": [
    {
     "data": {
      "text/plain": [
       "[<matplotlib.lines.Line2D at 0x262c9af0ca0>]"
      ]
     },
     "execution_count": 59,
     "metadata": {},
     "output_type": "execute_result"
    },
    {
     "data": {
      "image/png": "[encoded data removed]",
      "text/plain": [
       "<Figure size 432x288 with 1 Axes>"
      ]
     },
     "metadata": {
      "needs_background": "light"
     },
     "output_type": "display_data"
    }
   ],
   "source": [
    "plt.plot(precosGasAnoMed['Ano e Mes'],precosGasAnoMed['Valor de Venda'],linestyle='solid')"
   ]
  },
  {
   "cell_type": "code",
   "execution_count": 56,
   "metadata": {},
   "outputs": [
    {
     "name": "stdout",
     "output_type": "stream",
     "text": [
      "Min =  3.8658559717547014  | Max =  7.366277620129279\n"
     ]
    }
   ],
   "source": [
    "#Getting min and max prices' value\n",
    "min = precosGasAnoMed['Valor de Venda'].min()\n",
    "max = precosGasAnoMed['Valor de Venda'].max()\n",
    "print('Min = ',min,' | Max = ',max)"
   ]
  },
  {
   "cell_type": "code",
   "execution_count": 41,
   "metadata": {},
   "outputs": [
    {
     "data": {
      "text/html": [
       "<div>\n",
       "<style scoped>\n",
       "    .dataframe tbody tr th:only-of-type {\n",
       "        vertical-align: middle;\n",
       "    }\n",
       "\n",
       "    .dataframe tbody tr th {\n",
       "        vertical-align: top;\n",
       "    }\n",
       "\n",
       "    .dataframe thead th {\n",
       "        text-align: right;\n",
       "    }\n",
       "</style>\n",
       "<table border=\"1\" class=\"dataframe\">\n",
       "  <thead>\n",
       "    <tr style=\"text-align: right;\">\n",
       "      <th></th>\n",
       "      <th>Ano e Mes</th>\n",
       "      <th>Valor de Venda</th>\n",
       "    </tr>\n",
       "  </thead>\n",
       "  <tbody>\n",
       "    <tr>\n",
       "      <th>16</th>\n",
       "      <td>2020/05</td>\n",
       "      <td>3.865856</td>\n",
       "    </tr>\n",
       "    <tr>\n",
       "      <th>40</th>\n",
       "      <td>2022/06</td>\n",
       "      <td>7.366278</td>\n",
       "    </tr>\n",
       "  </tbody>\n",
       "</table>\n",
       "</div>"
      ],
      "text/plain": [
       "   Ano e Mes  Valor de Venda\n",
       "16   2020/05        3.865856\n",
       "40   2022/06        7.366278"
      ]
     },
     "execution_count": 41,
     "metadata": {},
     "output_type": "execute_result"
    }
   ],
   "source": [
    "#Finding the max and min prices dates\n",
    "pricesLoc = [min,max]\n",
    "precosGasAnoMed.loc[precosGasAnoMed['Valor de Venda'].isin(pricesLoc)]"
   ]
  },
  {
   "cell_type": "code",
   "execution_count": 50,
   "metadata": {},
   "outputs": [],
   "source": [
    "# Getting values for special markers\n",
    "markerDesiredpointsx = ['2020/03','2020/05','2022/06','2022/07'] # begin of pandemic, lowest price, highest price, after ICMS change\n",
    "markers = precosGasAnoMed.loc[precosGasAnoMed['Ano e Mes'].isin(markerDesiredpointsx)]\n",
    "markerspointsx = markers['Ano e Mes'].tolist()\n",
    "markerspointsy= markers['Valor de Venda'].tolist()"
   ]
  },
  {
   "cell_type": "markdown",
   "metadata": {},
   "source": [
    "### Observed impact\n",
    "By plotting the national average price, we can observe that:\n",
    "- The initial impact of the pandemic with the slowdown in the economy and temporary deflation.\n",
    "- COVID-19 caused a massive increase in price in Brazil, price went to \n",
    "- The decrease of R$0.93, around 13.4%, in the average price of gasoline after the ICMS reduction."
   ]
  },
  {
   "cell_type": "code",
   "execution_count": 53,
   "metadata": {},
   "outputs": [
    {
     "data": {
      "image/png": "[encoded data removed]",
      "text/plain": [
       "<Figure size 800x400 with 1 Axes>"
      ]
     },
     "metadata": {
      "needs_background": "light"
     },
     "output_type": "display_data"
    }
   ],
   "source": [
    "#Plotting\n",
    "plt.figure(figsize=(8,4),dpi=100)\n",
    "plt.title('National average gasoline price by date')\n",
    "plt.xlabel('Date')\n",
    "plt.ylabel('Price in BRL')\n",
    "\n",
    "plt.plot(precosGasAnoMed['Ano e Mes'],precosGasAnoMed['Valor de Venda'],linestyle='solid')\n",
    "\n",
    "important_dates = ['2019/01','2019/12','2020/03','2020/05','2020/12','2021/12','2022/06','2022/07']\n",
    "\n",
    "plt.xticks(ticks=important_dates,rotation=80,fontsize=8)\n",
    "plt.plot(markerspointsx, markerspointsy, \"s\")\n",
    "\n",
    "plt.axvline('2020/03',lw=0.1,c='lightgrey')\n",
    "plt.figtext(x=0.41,y=0.7,s='Pandemic begin \\n2020/03',c='lightgrey')\n",
    "\n",
    "plt.axvline('2022/06',lw=0.1,c='darkgrey')\n",
    "plt.figtext(x=0.705,y=0.5,s='ICMS Reduction\\n2022/06',c='lightgrey')\n",
    "\n",
    "plt.figtext(x=0.46,y=0.15,s='R$3.86 Lowest avg price',c='orange')\n",
    "plt.figtext(x=0.91,y=0.82,s='R$7.36 Highest avg price',c='darkorange')\n",
    "plt.figtext(x=0.91,y=0.65,s='R$6.43 Avg price \\n After ICMS reduction',c='darkorange')\n",
    "\n",
    "#plt.text(x=44,y=4.8,s='By only changing IMCS rate, mostly, from 25% to 17%, \\nthe prices dropped almost 1 BRL. \\nThis an attempt to control inflation and significant price drop.',c='darkorange')\n",
    "\n",
    "plt.show()"
   ]
  }
 ],
 "metadata": {
  "kernelspec": {
   "display_name": "Python 3 (ipykernel)",
   "language": "python",
   "name": "python3"
  },
  "language_info": {
   "codemirror_mode": {
    "name": "ipython",
    "version": 3
   },
   "file_extension": ".py",
   "mimetype": "text/x-python",
   "name": "python",
   "nbconvert_exporter": "python",
   "pygments_lexer": "ipython3",
   "version": "3.9.7"
  },
  "vscode": {
   "interpreter": {
    "hash": "ad2bdc8ecc057115af97d19610ffacc2b4e99fae6737bb82f5d7fb13d2f2c186"
   }
  }
 },
 "nbformat": 4,
 "nbformat_minor": 2
}
